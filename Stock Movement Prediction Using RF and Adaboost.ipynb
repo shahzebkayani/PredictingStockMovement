{
 "cells": [
  {
   "cell_type": "markdown",
   "id": "b8755a1c",
   "metadata": {},
   "source": [
    "## Importing Libraries"
   ]
  },
  {
   "cell_type": "code",
   "execution_count": 1,
   "id": "66c1dc87",
   "metadata": {},
   "outputs": [],
   "source": [
    "from sklearn.metrics import accuracy_score,plot_confusion_matrix\n",
    "from sklearn.model_selection import train_test_split\n",
    "from sklearn.tree import DecisionTreeClassifier\n",
    "from sklearn.ensemble import RandomForestClassifier,AdaBoostClassifier,GradientBoostingClassifier\n",
    "%matplotlib inline\n",
    "import matplotlib.pyplot as plt\n",
    "import pandas as pd\n",
    "import numpy as np\n",
    "from sklearn import tree\n",
    "from sklearn.ensemble import RandomForestRegressor\n",
    "from sklearn.preprocessing import StandardScaler\n",
    "from sklearn.model_selection import RandomizedSearchCV"
   ]
  },
  {
   "cell_type": "markdown",
   "id": "944d196e",
   "metadata": {},
   "source": [
    "# Importing and Visualizing Data"
   ]
  },
  {
   "cell_type": "code",
   "execution_count": 2,
   "id": "346a1e57",
   "metadata": {},
   "outputs": [
    {
     "data": {
      "text/html": [
       "<div>\n",
       "<style scoped>\n",
       "    .dataframe tbody tr th:only-of-type {\n",
       "        vertical-align: middle;\n",
       "    }\n",
       "\n",
       "    .dataframe tbody tr th {\n",
       "        vertical-align: top;\n",
       "    }\n",
       "\n",
       "    .dataframe thead th {\n",
       "        text-align: right;\n",
       "    }\n",
       "</style>\n",
       "<table border=\"1\" class=\"dataframe\">\n",
       "  <thead>\n",
       "    <tr style=\"text-align: right;\">\n",
       "      <th></th>\n",
       "      <th>Open</th>\n",
       "      <th>High</th>\n",
       "      <th>Low</th>\n",
       "      <th>Close</th>\n",
       "      <th>Adj Close</th>\n",
       "      <th>Volume</th>\n",
       "    </tr>\n",
       "    <tr>\n",
       "      <th>Date</th>\n",
       "      <th></th>\n",
       "      <th></th>\n",
       "      <th></th>\n",
       "      <th></th>\n",
       "      <th></th>\n",
       "      <th></th>\n",
       "    </tr>\n",
       "  </thead>\n",
       "  <tbody>\n",
       "    <tr>\n",
       "      <th>4/29/2022</th>\n",
       "      <td>20271.40039</td>\n",
       "      <td>21176.58008</td>\n",
       "      <td>20040.07031</td>\n",
       "      <td>21089.39063</td>\n",
       "      <td>21089.39063</td>\n",
       "      <td>2.727108e+09</td>\n",
       "    </tr>\n",
       "    <tr>\n",
       "      <th>4/28/2022</th>\n",
       "      <td>20118.78906</td>\n",
       "      <td>20286.83008</td>\n",
       "      <td>19956.66992</td>\n",
       "      <td>20276.16992</td>\n",
       "      <td>20276.16992</td>\n",
       "      <td>2.255667e+09</td>\n",
       "    </tr>\n",
       "    <tr>\n",
       "      <th>4/27/2022</th>\n",
       "      <td>19723.46094</td>\n",
       "      <td>20053.10938</td>\n",
       "      <td>19665.49023</td>\n",
       "      <td>19946.35938</td>\n",
       "      <td>19946.35938</td>\n",
       "      <td>2.361022e+09</td>\n",
       "    </tr>\n",
       "    <tr>\n",
       "      <th>4/26/2022</th>\n",
       "      <td>19989.03906</td>\n",
       "      <td>20258.64063</td>\n",
       "      <td>19858.35938</td>\n",
       "      <td>19934.71094</td>\n",
       "      <td>19934.71094</td>\n",
       "      <td>2.565707e+09</td>\n",
       "    </tr>\n",
       "    <tr>\n",
       "      <th>4/25/2022</th>\n",
       "      <td>20284.59961</td>\n",
       "      <td>20284.59961</td>\n",
       "      <td>19784.27930</td>\n",
       "      <td>19869.33984</td>\n",
       "      <td>19869.33984</td>\n",
       "      <td>2.912292e+09</td>\n",
       "    </tr>\n",
       "  </tbody>\n",
       "</table>\n",
       "</div>"
      ],
      "text/plain": [
       "                  Open         High          Low        Close    Adj Close  \\\n",
       "Date                                                                         \n",
       "4/29/2022  20271.40039  21176.58008  20040.07031  21089.39063  21089.39063   \n",
       "4/28/2022  20118.78906  20286.83008  19956.66992  20276.16992  20276.16992   \n",
       "4/27/2022  19723.46094  20053.10938  19665.49023  19946.35938  19946.35938   \n",
       "4/26/2022  19989.03906  20258.64063  19858.35938  19934.71094  19934.71094   \n",
       "4/25/2022  20284.59961  20284.59961  19784.27930  19869.33984  19869.33984   \n",
       "\n",
       "                 Volume  \n",
       "Date                     \n",
       "4/29/2022  2.727108e+09  \n",
       "4/28/2022  2.255667e+09  \n",
       "4/27/2022  2.361022e+09  \n",
       "4/26/2022  2.565707e+09  \n",
       "4/25/2022  2.912292e+09  "
      ]
     },
     "execution_count": 2,
     "metadata": {},
     "output_type": "execute_result"
    }
   ],
   "source": [
    "data=pd.read_csv('dataset3.csv',index_col= 'Date')\n",
    "data.dropna(inplace=True)\n",
    "data.head()"
   ]
  },
  {
   "cell_type": "code",
   "execution_count": 3,
   "id": "1ef23af2",
   "metadata": {},
   "outputs": [
    {
     "data": {
      "text/html": [
       "<div>\n",
       "<style scoped>\n",
       "    .dataframe tbody tr th:only-of-type {\n",
       "        vertical-align: middle;\n",
       "    }\n",
       "\n",
       "    .dataframe tbody tr th {\n",
       "        vertical-align: top;\n",
       "    }\n",
       "\n",
       "    .dataframe thead th {\n",
       "        text-align: right;\n",
       "    }\n",
       "</style>\n",
       "<table border=\"1\" class=\"dataframe\">\n",
       "  <thead>\n",
       "    <tr style=\"text-align: right;\">\n",
       "      <th></th>\n",
       "      <th>Open</th>\n",
       "      <th>High</th>\n",
       "      <th>Low</th>\n",
       "      <th>Close</th>\n",
       "      <th>Adj Close</th>\n",
       "      <th>Volume</th>\n",
       "    </tr>\n",
       "  </thead>\n",
       "  <tbody>\n",
       "    <tr>\n",
       "      <th>count</th>\n",
       "      <td>1724.000000</td>\n",
       "      <td>1724.000000</td>\n",
       "      <td>1724.000000</td>\n",
       "      <td>1724.000000</td>\n",
       "      <td>1724.000000</td>\n",
       "      <td>1.724000e+03</td>\n",
       "    </tr>\n",
       "    <tr>\n",
       "      <th>mean</th>\n",
       "      <td>25731.011982</td>\n",
       "      <td>25875.566292</td>\n",
       "      <td>25542.193274</td>\n",
       "      <td>25712.942877</td>\n",
       "      <td>25712.942877</td>\n",
       "      <td>1.944150e+09</td>\n",
       "    </tr>\n",
       "    <tr>\n",
       "      <th>std</th>\n",
       "      <td>3009.022576</td>\n",
       "      <td>3010.987173</td>\n",
       "      <td>2995.949780</td>\n",
       "      <td>3003.715626</td>\n",
       "      <td>3003.715626</td>\n",
       "      <td>6.999819e+08</td>\n",
       "    </tr>\n",
       "    <tr>\n",
       "      <th>min</th>\n",
       "      <td>18278.800780</td>\n",
       "      <td>18482.330080</td>\n",
       "      <td>18235.480470</td>\n",
       "      <td>18319.580080</td>\n",
       "      <td>18319.580080</td>\n",
       "      <td>0.000000e+00</td>\n",
       "    </tr>\n",
       "    <tr>\n",
       "      <th>25%</th>\n",
       "      <td>23546.802738</td>\n",
       "      <td>23642.283203</td>\n",
       "      <td>23331.155273</td>\n",
       "      <td>23519.140137</td>\n",
       "      <td>23519.140137</td>\n",
       "      <td>1.496752e+09</td>\n",
       "    </tr>\n",
       "    <tr>\n",
       "      <th>50%</th>\n",
       "      <td>25907.589845</td>\n",
       "      <td>26048.225590</td>\n",
       "      <td>25714.370115</td>\n",
       "      <td>25878.315430</td>\n",
       "      <td>25878.315430</td>\n",
       "      <td>1.795762e+09</td>\n",
       "    </tr>\n",
       "    <tr>\n",
       "      <th>75%</th>\n",
       "      <td>28103.824707</td>\n",
       "      <td>28267.004885</td>\n",
       "      <td>27925.402345</td>\n",
       "      <td>28122.469725</td>\n",
       "      <td>28122.469725</td>\n",
       "      <td>2.201660e+09</td>\n",
       "    </tr>\n",
       "    <tr>\n",
       "      <th>max</th>\n",
       "      <td>33335.480470</td>\n",
       "      <td>33484.078130</td>\n",
       "      <td>32897.039060</td>\n",
       "      <td>33154.121090</td>\n",
       "      <td>33154.121090</td>\n",
       "      <td>6.012760e+09</td>\n",
       "    </tr>\n",
       "  </tbody>\n",
       "</table>\n",
       "</div>"
      ],
      "text/plain": [
       "               Open          High           Low         Close     Adj Close  \\\n",
       "count   1724.000000   1724.000000   1724.000000   1724.000000   1724.000000   \n",
       "mean   25731.011982  25875.566292  25542.193274  25712.942877  25712.942877   \n",
       "std     3009.022576   3010.987173   2995.949780   3003.715626   3003.715626   \n",
       "min    18278.800780  18482.330080  18235.480470  18319.580080  18319.580080   \n",
       "25%    23546.802738  23642.283203  23331.155273  23519.140137  23519.140137   \n",
       "50%    25907.589845  26048.225590  25714.370115  25878.315430  25878.315430   \n",
       "75%    28103.824707  28267.004885  27925.402345  28122.469725  28122.469725   \n",
       "max    33335.480470  33484.078130  32897.039060  33154.121090  33154.121090   \n",
       "\n",
       "             Volume  \n",
       "count  1.724000e+03  \n",
       "mean   1.944150e+09  \n",
       "std    6.999819e+08  \n",
       "min    0.000000e+00  \n",
       "25%    1.496752e+09  \n",
       "50%    1.795762e+09  \n",
       "75%    2.201660e+09  \n",
       "max    6.012760e+09  "
      ]
     },
     "execution_count": 3,
     "metadata": {},
     "output_type": "execute_result"
    }
   ],
   "source": [
    "data.describe()"
   ]
  },
  {
   "cell_type": "code",
   "execution_count": 4,
   "id": "ccca1d23",
   "metadata": {},
   "outputs": [
    {
     "data": {
      "text/plain": [
       "<bound method DataFrame.info of                   Open         High          Low        Close    Adj Close  \\\n",
       "Date                                                                         \n",
       "4/29/2022  20271.40039  21176.58008  20040.07031  21089.39063  21089.39063   \n",
       "4/28/2022  20118.78906  20286.83008  19956.66992  20276.16992  20276.16992   \n",
       "4/27/2022  19723.46094  20053.10938  19665.49023  19946.35938  19946.35938   \n",
       "4/26/2022  19989.03906  20258.64063  19858.35938  19934.71094  19934.71094   \n",
       "4/25/2022  20284.59961  20284.59961  19784.27930  19869.33984  19869.33984   \n",
       "...                ...          ...          ...          ...          ...   \n",
       "5/8/2015   27557.51953  27652.61914  27367.10938  27577.33984  27577.33984   \n",
       "5/7/2015   27567.61914  27604.49023  27207.27930  27289.97070  27289.97070   \n",
       "5/6/2015   27698.09961  28054.67969  27570.41016  27640.91016  27640.91016   \n",
       "5/5/2015   28295.72070  28316.63086  27598.16992  27755.53906  27755.53906   \n",
       "5/4/2015   28231.25977  28343.74023  28017.19922  28123.82031  28123.82031   \n",
       "\n",
       "                 Volume  \n",
       "Date                     \n",
       "4/29/2022  2.727108e+09  \n",
       "4/28/2022  2.255667e+09  \n",
       "4/27/2022  2.361022e+09  \n",
       "4/26/2022  2.565707e+09  \n",
       "4/25/2022  2.912292e+09  \n",
       "...                 ...  \n",
       "5/8/2015   1.817614e+09  \n",
       "5/7/2015   1.894753e+09  \n",
       "5/6/2015   2.265508e+09  \n",
       "5/5/2015   2.292680e+09  \n",
       "5/4/2015   1.999729e+09  \n",
       "\n",
       "[1724 rows x 6 columns]>"
      ]
     },
     "execution_count": 4,
     "metadata": {},
     "output_type": "execute_result"
    }
   ],
   "source": [
    "data.info"
   ]
  },
  {
   "cell_type": "code",
   "execution_count": 5,
   "id": "b87ee87c",
   "metadata": {},
   "outputs": [
    {
     "data": {
      "text/plain": [
       "0.0"
      ]
     },
     "execution_count": 5,
     "metadata": {},
     "output_type": "execute_result"
    }
   ],
   "source": [
    "data[data.isna()==True].sum().sum()"
   ]
  },
  {
   "cell_type": "code",
   "execution_count": 6,
   "id": "dede300a",
   "metadata": {},
   "outputs": [
    {
     "data": {
      "image/png": "[encoded data removed]",
      "text/plain": [
       "<Figure size 432x288 with 1 Axes>"
      ]
     },
     "metadata": {
      "needs_background": "light"
     },
     "output_type": "display_data"
    }
   ],
   "source": [
    "\n",
    "data['Adj Close'].plot(label='Closing Price', color='g');\n",
    "plt.legend();\n"
   ]
  },
  {
   "cell_type": "markdown",
   "id": "3d7d360a",
   "metadata": {},
   "source": [
    "# Feature Engineering and data Split"
   ]
  },
  {
   "cell_type": "code",
   "execution_count": 7,
   "id": "64e5f8d4",
   "metadata": {},
   "outputs": [],
   "source": [
    "# Features construction\n",
    "data[\"Open-Close\"] = (data.Open - data.Close)/data.Open\n",
    "data[\"High-Low\"] = (data.High - data.Low)/data.Low\n",
    "data[\"percent_change\"] = data[\"Adj Close\"].pct_change()\n",
    "data[\"std_20\"] = data[\"percent_change\"].rolling(20).std()\n",
    "data[\"ret_20\"] = data[\"percent_change\"].rolling(20).mean()\n",
    "data['SMA'] = data['Adj Close'].rolling(window=20).mean().shift(1)\n",
    "data['dist_from_mean'] = data['Adj Close'].shift(1) - data['SMA']\n",
    "data['ON_returns'] = data['Close'] - data['Open'].shift(-1)\n",
    "data['Band_1'] = data['SMA'] - data['std_20']\n",
    "data['Band_2'] = data['SMA'] + data['std_20']\n",
    "data['ON_returns'] = data['ON_returns'].shift(1)\n",
    "data['signal'] = np.where(data['ON_returns']<0, 1, 0)\n",
    "data['dist_from_mean'] = data['Adj Close'].shift(1) - data['SMA']\n",
    "comb_features = pd.concat([data,data], axis=1)\n",
    "comb_features = comb_features.dropna() #dropping NaN values\n",
    "comb_features = pd.get_dummies(comb_features, columns=['signal']) #for categorical variables\n",
    "comb_features = comb_features.drop('ON_returns', axis=1) #dropping original categorical column\n",
    "comb_features = comb_features.drop('Close', axis=1)\n",
    "data.dropna(inplace=True)\n",
    "\n",
    "# X is the input variable\n",
    "\n",
    "x = data[['percent_change', \"std_20\",'signal', \"ret_20\",'Band_1','Band_2']]\n",
    "\n",
    "# Y is the target or output variable\n",
    "y = np.where(data[\"Adj Close\"].shift(-1) > data[\"Adj Close\"],1,0)\n"
   ]
  },
  {
   "cell_type": "code",
   "execution_count": 8,
   "id": "7822cc65",
   "metadata": {},
   "outputs": [
    {
     "data": {
      "text/plain": [
       "array([0, 0, 1, ..., 1, 1, 0])"
      ]
     },
     "execution_count": 8,
     "metadata": {},
     "output_type": "execute_result"
    }
   ],
   "source": [
    "y"
   ]
  },
  {
   "cell_type": "code",
   "execution_count": 9,
   "id": "8b8b1b23",
   "metadata": {},
   "outputs": [],
   "source": [
    "# Total dataset length\n",
    "\n",
    "dataset_length = data.shape[0]\n",
    "\n",
    "\n",
    "# Trainig dataset length\n",
    "split = int(dataset_length * 0.20)"
   ]
  },
  {
   "cell_type": "code",
   "execution_count": 10,
   "id": "680a56ac",
   "metadata": {},
   "outputs": [
    {
     "name": "stdout",
     "output_type": "stream",
     "text": [
      "(1364, 6) (340, 6)\n",
      "(1364,) (340,)\n"
     ]
    }
   ],
   "source": [
    "# Splitiing the X and y into train and test datasets\n",
    "\n",
    "x_train, x_test = x[split:], x[:split]\n",
    "y_train, y_test = y[split:], y[:split]\n",
    "\n",
    "# Print the size of the train and test dataset\n",
    "\n",
    "print(x_train.shape, x_test.shape)\n",
    "print(y_train.shape, y_test.shape)"
   ]
  },
  {
   "cell_type": "code",
   "execution_count": 11,
   "id": "b6496c0f",
   "metadata": {},
   "outputs": [
    {
     "data": {
      "text/html": [
       "<div>\n",
       "<style scoped>\n",
       "    .dataframe tbody tr th:only-of-type {\n",
       "        vertical-align: middle;\n",
       "    }\n",
       "\n",
       "    .dataframe tbody tr th {\n",
       "        vertical-align: top;\n",
       "    }\n",
       "\n",
       "    .dataframe thead th {\n",
       "        text-align: right;\n",
       "    }\n",
       "</style>\n",
       "<table border=\"1\" class=\"dataframe\">\n",
       "  <thead>\n",
       "    <tr style=\"text-align: right;\">\n",
       "      <th></th>\n",
       "      <th>percent_change</th>\n",
       "      <th>std_20</th>\n",
       "      <th>signal</th>\n",
       "      <th>ret_20</th>\n",
       "      <th>Band_1</th>\n",
       "      <th>Band_2</th>\n",
       "    </tr>\n",
       "    <tr>\n",
       "      <th>Date</th>\n",
       "      <th></th>\n",
       "      <th></th>\n",
       "      <th></th>\n",
       "      <th></th>\n",
       "      <th></th>\n",
       "      <th></th>\n",
       "    </tr>\n",
       "  </thead>\n",
       "  <tbody>\n",
       "    <tr>\n",
       "      <th>5/8/2015</th>\n",
       "      <td>-0.005082</td>\n",
       "      <td>0.009800</td>\n",
       "      <td>0</td>\n",
       "      <td>0.000521</td>\n",
       "      <td>27596.446744</td>\n",
       "      <td>27596.466344</td>\n",
       "    </tr>\n",
       "    <tr>\n",
       "      <th>5/7/2015</th>\n",
       "      <td>-0.010420</td>\n",
       "      <td>0.010090</td>\n",
       "      <td>0</td>\n",
       "      <td>0.000103</td>\n",
       "      <td>27609.499481</td>\n",
       "      <td>27609.519661</td>\n",
       "    </tr>\n",
       "    <tr>\n",
       "      <th>5/6/2015</th>\n",
       "      <td>0.012860</td>\n",
       "      <td>0.010220</td>\n",
       "      <td>1</td>\n",
       "      <td>0.000211</td>\n",
       "      <td>27610.989878</td>\n",
       "      <td>27611.010318</td>\n",
       "    </tr>\n",
       "    <tr>\n",
       "      <th>5/5/2015</th>\n",
       "      <td>0.004147</td>\n",
       "      <td>0.010226</td>\n",
       "      <td>1</td>\n",
       "      <td>0.000227</td>\n",
       "      <td>27615.440849</td>\n",
       "      <td>27615.461300</td>\n",
       "    </tr>\n",
       "    <tr>\n",
       "      <th>5/4/2015</th>\n",
       "      <td>0.013269</td>\n",
       "      <td>0.010478</td>\n",
       "      <td>1</td>\n",
       "      <td>0.001235</td>\n",
       "      <td>27620.344015</td>\n",
       "      <td>27620.364970</td>\n",
       "    </tr>\n",
       "  </tbody>\n",
       "</table>\n",
       "</div>"
      ],
      "text/plain": [
       "          percent_change    std_20  signal    ret_20        Band_1  \\\n",
       "Date                                                                 \n",
       "5/8/2015       -0.005082  0.009800       0  0.000521  27596.446744   \n",
       "5/7/2015       -0.010420  0.010090       0  0.000103  27609.499481   \n",
       "5/6/2015        0.012860  0.010220       1  0.000211  27610.989878   \n",
       "5/5/2015        0.004147  0.010226       1  0.000227  27615.440849   \n",
       "5/4/2015        0.013269  0.010478       1  0.001235  27620.344015   \n",
       "\n",
       "                Band_2  \n",
       "Date                    \n",
       "5/8/2015  27596.466344  \n",
       "5/7/2015  27609.519661  \n",
       "5/6/2015  27611.010318  \n",
       "5/5/2015  27615.461300  \n",
       "5/4/2015  27620.364970  "
      ]
     },
     "execution_count": 11,
     "metadata": {},
     "output_type": "execute_result"
    }
   ],
   "source": [
    "x_train.tail()"
   ]
  },
  {
   "cell_type": "markdown",
   "id": "87fcc586",
   "metadata": {},
   "source": [
    "# Fitting Random Forest and predicting the next 5 days"
   ]
  },
  {
   "cell_type": "code",
   "execution_count": 14,
   "id": "6efbaaac",
   "metadata": {},
   "outputs": [
    {
     "data": {
      "text/plain": [
       "0.6705882352941176"
      ]
     },
     "execution_count": 14,
     "metadata": {},
     "output_type": "execute_result"
    },
    {
     "data": {
      "image/png": "[encoded data removed]",
      "text/plain": [
       "<Figure size 432x288 with 2 Axes>"
      ]
     },
     "metadata": {
      "needs_background": "light"
     },
     "output_type": "display_data"
    }
   ],
   "source": [
    "\n",
    "# Step 4: Fit a Random Forest model, \" compared to \"Decision Tree model, accuracy go up by 5%\n",
    "clf = RandomForestClassifier(n_estimators=100,min_samples_split=2,random_state=1, min_samples_leaf=9,max_depth=5,bootstrap='True')\n",
    "clf.fit(x_train, y_train)\n",
    "y_pred = clf.predict(x_test)\n",
    "plot_confusion_matrix(clf, x_test, y_test);\n",
    "accuracy_score(y_test, y_pred)\n"
   ]
  },
  {
   "cell_type": "code",
   "execution_count": 15,
   "id": "d1f5e38b",
   "metadata": {},
   "outputs": [],
   "source": [
    "accuracy ={}\n",
    "for i in range(1,3):\n",
    "    clf = RandomForestClassifier(n_estimators=i, random_state=1)\n",
    "    clf.fit(x_train, y_train)\n",
    "    y_pred_ev = clf.predict(x_test)\n",
    "    accuracy[i] = accuracy_score(y_test, y_pred_ev)"
   ]
  },
  {
   "cell_type": "code",
   "execution_count": 16,
   "id": "ee65506a",
   "metadata": {},
   "outputs": [
    {
     "data": {
      "text/plain": [
       "0.638235294117647"
      ]
     },
     "execution_count": 16,
     "metadata": {},
     "output_type": "execute_result"
    }
   ],
   "source": [
    "max(accuracy.values())"
   ]
  },
  {
   "cell_type": "code",
   "execution_count": null,
   "id": "d50e9ad6",
   "metadata": {},
   "outputs": [],
   "source": [
    "grid_rf = {\n",
    "'n_estimators': [20, 50, 100, 500, 1000],  \n",
    "'max_depth': np.arange(1, 15, 1),  \n",
    "'min_samples_split': [2, 10, 9], \n",
    "'min_samples_leaf': np.arange(1, 15, 2, dtype=int),  \n",
    "'bootstrap': [True, False], \n",
    "'random_state': [1, 2, 30, 42]\n",
    "}\n",
    "rscv = RandomizedSearchCV(estimator=clf, param_distributions=grid_rf, cv=3, n_jobs=-1, verbose=2, n_iter=200)\n",
    "rscv_fit = rscv.fit(x_train, y_train)\n",
    "best_parameters = rscv_fit.best_params_\n",
    "print(best_parameters)"
   ]
  },
  {
   "cell_type": "code",
   "execution_count": 17,
   "id": "3245fcc1",
   "metadata": {},
   "outputs": [
    {
     "data": {
      "text/html": [
       "<div>\n",
       "<style scoped>\n",
       "    .dataframe tbody tr th:only-of-type {\n",
       "        vertical-align: middle;\n",
       "    }\n",
       "\n",
       "    .dataframe tbody tr th {\n",
       "        vertical-align: top;\n",
       "    }\n",
       "\n",
       "    .dataframe thead th {\n",
       "        text-align: right;\n",
       "    }\n",
       "</style>\n",
       "<table border=\"1\" class=\"dataframe\">\n",
       "  <thead>\n",
       "    <tr style=\"text-align: right;\">\n",
       "      <th></th>\n",
       "      <th>feature</th>\n",
       "      <th>importance</th>\n",
       "    </tr>\n",
       "  </thead>\n",
       "  <tbody>\n",
       "    <tr>\n",
       "      <th>0</th>\n",
       "      <td>percent_change</td>\n",
       "      <td>0.242</td>\n",
       "    </tr>\n",
       "    <tr>\n",
       "      <th>1</th>\n",
       "      <td>std_20</td>\n",
       "      <td>0.195</td>\n",
       "    </tr>\n",
       "    <tr>\n",
       "      <th>3</th>\n",
       "      <td>ret_20</td>\n",
       "      <td>0.156</td>\n",
       "    </tr>\n",
       "    <tr>\n",
       "      <th>5</th>\n",
       "      <td>Band_2</td>\n",
       "      <td>0.154</td>\n",
       "    </tr>\n",
       "    <tr>\n",
       "      <th>4</th>\n",
       "      <td>Band_1</td>\n",
       "      <td>0.141</td>\n",
       "    </tr>\n",
       "    <tr>\n",
       "      <th>2</th>\n",
       "      <td>signal</td>\n",
       "      <td>0.110</td>\n",
       "    </tr>\n",
       "  </tbody>\n",
       "</table>\n",
       "</div>"
      ],
      "text/plain": [
       "          feature  importance\n",
       "0  percent_change       0.242\n",
       "1          std_20       0.195\n",
       "3          ret_20       0.156\n",
       "5          Band_2       0.154\n",
       "4          Band_1       0.141\n",
       "2          signal       0.110"
      ]
     },
     "execution_count": 17,
     "metadata": {},
     "output_type": "execute_result"
    }
   ],
   "source": [
    "importances = pd.DataFrame({'feature':x_train.columns,'importance':np.round(clf.feature_importances_,3)})\n",
    "importances = importances.sort_values('importance',ascending=False)\n",
    "importances"
   ]
  },
  {
   "cell_type": "code",
   "execution_count": 18,
   "id": "0d4ce9e4",
   "metadata": {},
   "outputs": [
    {
     "data": {
      "text/plain": [
       "array([0.24217145, 0.19528206, 0.11034305, 0.15645672, 0.14140104,\n",
       "       0.15434567])"
      ]
     },
     "execution_count": 18,
     "metadata": {},
     "output_type": "execute_result"
    }
   ],
   "source": [
    "clf.feature_importances_"
   ]
  },
  {
   "cell_type": "code",
   "execution_count": null,
   "id": "df3aaaaf",
   "metadata": {},
   "outputs": [],
   "source": [
    "predictions = pd.DataFrame({\"Predictions\": y_pred}, index=pd.date_range(start=data.index[-1], periods=len(predict), freq=\"D\"))\n",
    "fivedays_df = pd.DataFrame(predictions[:5])\n",
    "fivedays_df.to_csv(\"five-days-predictions.csv\")"
   ]
  },
  {
   "cell_type": "code",
   "execution_count": 156,
   "id": "9aca3c96",
   "metadata": {},
   "outputs": [
    {
     "data": {
      "image/png": "[encoded data removed]",
      "text/plain": [
       "<Figure size 720x360 with 1 Axes>"
      ]
     },
     "metadata": {
      "needs_background": "light"
     },
     "output_type": "display_data"
    }
   ],
   "source": [
    "fivedays_df_pred = pd.read_csv(\"five-days-predictions.csv\")\n",
    "fivedays_df_pred.set_index(\"Date\", inplace=True)\n",
    "buy_price = min(fivedays_df_pred[\"Predictions\"])\n",
    "sell_price = max(fivedays_df_pred[\"Predictions\"])\n",
    "fivedays_df_pred[\"Predictions\"].plot(figsize=(10, 5), title=\"Forecast for the next 5 days\", color=\"Green\")\n",
    "plt.xlabel(\"Date\")\n",
    "plt.ylabel(\"Predicted Movement of HSI Index\")\n",
    "plt.legend()\n",
    "plt.show()"
   ]
  },
  {
   "cell_type": "markdown",
   "id": "4857342d",
   "metadata": {},
   "source": [
    "# Fitting AdaBoost Model"
   ]
  },
  {
   "cell_type": "code",
   "execution_count": 20,
   "id": "f5dfc222",
   "metadata": {},
   "outputs": [
    {
     "data": {
      "text/plain": [
       "0.6647058823529411"
      ]
     },
     "execution_count": 20,
     "metadata": {},
     "output_type": "execute_result"
    },
    {
     "data": {
      "image/png": "[encoded data removed]",
      "text/plain": [
       "<Figure size 432x288 with 2 Axes>"
      ]
     },
     "metadata": {
      "needs_background": "light"
     },
     "output_type": "display_data"
    }
   ],
   "source": [
    "\n",
    "# Step 5: Fit a AdaBoost model, \" compared to \"Decision Tree model, accuracy go up by 10%\n",
    "clf = AdaBoostClassifier(n_estimators=1,learning_rate=1)\n",
    "model=clf.fit(x_train, y_train)\n",
    "y_pred = model.predict(x_test)\n",
    "plot_confusion_matrix(clf, x_test, y_test)\n",
    "accuracy_score(y_test, y_pred)"
   ]
  },
  {
   "cell_type": "code",
   "execution_count": 151,
   "id": "75c82aa7",
   "metadata": {},
   "outputs": [
    {
     "data": {
      "text/plain": [
       "GridSearchCV(cv=3,\n",
       "             estimator=AdaBoostClassifier(learning_rate=1, n_estimators=1),\n",
       "             n_jobs=-1, param_grid={'n_estimators': [100, 200, 300]},\n",
       "             scoring='accuracy')"
      ]
     },
     "execution_count": 151,
     "metadata": {},
     "output_type": "execute_result"
    }
   ],
   "source": [
    "from sklearn.model_selection import GridSearchCV\n",
    "#Creating a grid of hyperparameters\n",
    "grid_params = {'n_estimators': [100,200,300]}\n",
    "#Building a 3 fold CV GridSearchCV object\n",
    "grid_object = GridSearchCV(estimator = clf, param_grid = grid_params, scoring = 'accuracy', cv = 3, n_jobs = -1)\n",
    "#Fitting the grid to the training \n",
    "grid_object.fit(x_train, y_train)\n",
    "#Extracting the best parametersgrid_object.bestparams ..."
   ]
  },
  {
   "cell_type": "code",
   "execution_count": 152,
   "id": "339e0f47",
   "metadata": {},
   "outputs": [
    {
     "data": {
      "text/html": [
       "<div>\n",
       "<style scoped>\n",
       "    .dataframe tbody tr th:only-of-type {\n",
       "        vertical-align: middle;\n",
       "    }\n",
       "\n",
       "    .dataframe tbody tr th {\n",
       "        vertical-align: top;\n",
       "    }\n",
       "\n",
       "    .dataframe thead th {\n",
       "        text-align: right;\n",
       "    }\n",
       "</style>\n",
       "<table border=\"1\" class=\"dataframe\">\n",
       "  <thead>\n",
       "    <tr style=\"text-align: right;\">\n",
       "      <th></th>\n",
       "      <th>feature</th>\n",
       "      <th>importance</th>\n",
       "    </tr>\n",
       "  </thead>\n",
       "  <tbody>\n",
       "    <tr>\n",
       "      <th>2</th>\n",
       "      <td>signal</td>\n",
       "      <td>1.0</td>\n",
       "    </tr>\n",
       "    <tr>\n",
       "      <th>0</th>\n",
       "      <td>percent_change</td>\n",
       "      <td>0.0</td>\n",
       "    </tr>\n",
       "    <tr>\n",
       "      <th>1</th>\n",
       "      <td>std_20</td>\n",
       "      <td>0.0</td>\n",
       "    </tr>\n",
       "    <tr>\n",
       "      <th>3</th>\n",
       "      <td>ret_20</td>\n",
       "      <td>0.0</td>\n",
       "    </tr>\n",
       "    <tr>\n",
       "      <th>4</th>\n",
       "      <td>Band_1</td>\n",
       "      <td>0.0</td>\n",
       "    </tr>\n",
       "    <tr>\n",
       "      <th>5</th>\n",
       "      <td>Band_2</td>\n",
       "      <td>0.0</td>\n",
       "    </tr>\n",
       "  </tbody>\n",
       "</table>\n",
       "</div>"
      ],
      "text/plain": [
       "          feature  importance\n",
       "2          signal         1.0\n",
       "0  percent_change         0.0\n",
       "1          std_20         0.0\n",
       "3          ret_20         0.0\n",
       "4          Band_1         0.0\n",
       "5          Band_2         0.0"
      ]
     },
     "execution_count": 152,
     "metadata": {},
     "output_type": "execute_result"
    }
   ],
   "source": [
    "importances = pd.DataFrame({'feature':x_train.columns,'importance':np.round(clf.feature_importances_,8)})\n",
    "importances = importances.sort_values('importance',ascending=False)\n",
    "importances"
   ]
  },
  {
   "cell_type": "code",
   "execution_count": 75,
   "id": "3d61e92b",
   "metadata": {},
   "outputs": [
    {
     "name": "stdout",
     "output_type": "stream",
     "text": [
      "[0.50003885 0.41003651 0.99596923 0.28442127 0.36989228 0.43668296\n",
      " 0.50739902 0.65809297 0.68115834 0.57394736 0.89388543 0.57662569\n",
      " 0.4687946  0.66103588 0.50478111 0.61417625 0.5959216  0.4949243\n",
      " 0.59955384 0.96396923 0.68734228 0.88399812 0.6741423  0.60047982\n",
      " 0.66768924 0.99596923 0.31985786 0.37166382 0.3396906  0.51872851\n",
      " 0.66879699 0.21777998 0.15794501 0.44489973 0.27035866 0.68766147\n",
      " 0.10684884 0.07037001 0.44345636 0.99196923 0.50101722 0.44349569\n",
      " 0.04711098 0.47807071 0.4231539  0.09672261 0.48438354 0.92916392\n",
      " 0.68999347 0.03653529 0.57617115 0.18790654 0.41911037 0.0893112\n",
      " 0.46066555 0.40724021 0.65625788 0.46366551 0.96396335 0.54625518\n",
      " 0.43026087 0.97045561 0.49130474 0.89288847 0.17072624 0.94249855\n",
      " 0.33649118 0.78225689 0.34971486 0.53313632 0.88170887 0.4818047\n",
      " 0.57063707 0.57841028 0.52002609 0.42980167 0.10909672 0.5169722\n",
      " 0.39688984 0.08944266 0.24289795 0.98968463 0.52030033 0.47964654\n",
      " 0.43068258 0.04846592 0.91659657 0.21339335 0.04853447 0.5796769\n",
      " 0.23526615 0.02518944 0.42215236 0.89850993 0.0913033  0.28621419\n",
      " 0.32046069 0.08089807 0.59669325 0.49248127 0.31941721 0.6098757\n",
      " 0.63320779 0.56271553 0.41425609 0.44589243 0.52580125 0.01978786\n",
      " 0.06683204 0.98129429 0.56411028 0.42331355 0.3761106  0.11794182\n",
      " 0.38272018 0.70525198 0.34431863 0.27439118 0.32746748 0.01277694\n",
      " 0.97568433 0.50615623 0.00657426 0.38751237 0.30281491 0.98679715\n",
      " 0.54370763 0.17350686 0.88839219 0.30335416 0.75446269 0.60384642\n",
      " 0.42200597 0.52633467 0.47400462 0.45178683 0.44596546 0.03686402\n",
      " 0.47779184 0.32594121 0.59983928 0.0280592  0.35601741 0.42958123\n",
      " 0.28755086 0.62516732 0.58640635 0.02784123 0.34576751 0.98785158\n",
      " 0.4194564  0.44214433 0.99964646 0.47484472 0.63588865 0.60202686\n",
      " 0.04160779 0.09402608 0.34881151 0.18751747 0.64873164 0.04842577\n",
      " 0.37913034 0.07116821 0.40973018 0.55649928 0.43416289 0.99731825\n",
      " 0.47036402 0.50038596 0.45631032 0.3914338  0.6555374  0.46380376\n",
      " 0.4147441  0.05762398 0.35920347 0.17303316 0.35499175 0.38426584\n",
      " 0.99996923 0.62711368 0.57250744 0.61106275 0.56229656 0.58223544\n",
      " 0.27799436 0.25583517 0.09221077 0.42318275 0.07229965 0.34838846\n",
      " 0.57535679 0.58645664 0.40536748 0.97798343 0.48438369 0.48098671\n",
      " 0.17440177 0.87990086 0.61373439 0.72062415 0.37923709 0.4394462\n",
      " 0.362408   0.10533662 0.49391325 0.70974438 0.11819501 0.20039002\n",
      " 0.55328176 0.39649359 0.42451711 0.09741118 0.06032448 0.48312038\n",
      " 0.5224288  0.52959073 0.49303241 0.99414494 0.69283127 0.75064778\n",
      " 0.76314323 0.35845191 0.65587613 0.98210217 0.62593865 0.58130977\n",
      " 0.40272312 0.21109142 0.65991051 0.03285345 0.28977784 0.2704401\n",
      " 0.46599437 0.08041506 0.32363128 0.31500895 0.61420126 0.28556527\n",
      " 0.89548269 0.65674386 0.11390956 0.9991     0.12041923 0.26693212\n",
      " 0.5751138  0.40485536 0.11837398 0.26821831 0.72934343 0.61979136\n",
      " 0.6493764  0.63443865 0.65616171 0.39207655 0.85785166 0.42881131\n",
      " 0.98717947 0.49608969 0.32621392 0.28970851 0.99615059 0.50009277\n",
      " 0.58872072 0.4646543  0.37360829 0.53751855 0.46270081 0.52023302\n",
      " 0.99996923 0.51306508 0.99996923 0.54464012 0.95279788 0.63509879\n",
      " 0.52017302 0.52430197 0.22028027 0.44950232 0.99585158 0.09078402\n",
      " 0.43097354 0.6034201  0.90154178 0.45561125 0.39135665 0.58976906\n",
      " 0.48686889 0.69223248 0.55444036 0.31780731 0.54685115 0.09848241\n",
      " 0.37161915 0.38020336 0.47468735 0.15475653 0.53197647 0.09243307\n",
      " 0.46485493 0.25258413 0.45952699 0.65764908 0.22293207 0.48947621\n",
      " 0.4332762  0.27582676 0.51004735 0.52227648 0.82206685 0.23005532\n",
      " 0.52672179 0.51585182 0.6895362  0.49781699 0.26329106 0.35139575\n",
      " 0.32819542 0.29401117 0.29547015 0.36830608 0.390676   0.32277212\n",
      " 0.45100578 0.24811331 0.37798347 0.06365573 0.98878516 0.50849206\n",
      " 0.27521099 0.99737971 0.25552826 0.98911079 0.2866023  0.93479475\n",
      " 0.41100648 0.40600506 0.28745953 0.38872656]\n",
      "(340,)\n"
     ]
    }
   ],
   "source": [
    "model = RandomForestRegressor(n_estimators=500, random_state=42, min_samples_split=2, min_samples_leaf=1, max_depth=10, bootstrap=True)\n",
    "model.fit(x_train, y_train)\n",
    "predict = model.predict(x_test)\n",
    "print(predict)\n",
    "print(predict.shape)"
   ]
  },
  {
   "cell_type": "code",
   "execution_count": 77,
   "id": "e6622919",
   "metadata": {},
   "outputs": [],
   "source": []
  },
  {
   "cell_type": "code",
   "execution_count": null,
   "id": "832e43ac",
   "metadata": {},
   "outputs": [],
   "source": []
  }
 ],
 "metadata": {
  "kernelspec": {
   "display_name": "Python 3",
   "language": "python",
   "name": "python3"
  },
  "language_info": {
   "codemirror_mode": {
    "name": "ipython",
    "version": 3
   },
   "file_extension": ".py",
   "mimetype": "text/x-python",
   "name": "python",
   "nbconvert_exporter": "python",
   "pygments_lexer": "ipython3",
   "version": "3.8.8"
  }
 },
 "nbformat": 4,
 "nbformat_minor": 5
}
